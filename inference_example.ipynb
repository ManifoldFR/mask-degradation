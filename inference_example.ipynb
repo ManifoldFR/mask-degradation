{
 "cells": [
  {
   "cell_type": "code",
   "execution_count": 1,
   "metadata": {},
   "outputs": [],
   "source": [
    "%load_ext autoreload\n",
    "%autoreload 2\n",
    "\n",
    "import numpy as np\n",
    "import torch\n",
    "import math\n",
    "import pyro\n",
    "import pyro.infer\n",
    "import pyro.optim\n",
    "import pyro.distributions as dist\n",
    "from torch.distributions import constraints\n",
    "\n",
    "from physics import compute_penetration_profile\n",
    "from scipy import constants\n",
    "from configs import respiratorA, temperature, viscosity"
   ]
  },
  {
   "cell_type": "markdown",
   "metadata": {},
   "source": [
    "Now set the seeds:"
   ]
  },
  {
   "cell_type": "code",
   "execution_count": 2,
   "metadata": {},
   "outputs": [],
   "source": [
    "seed = 43\n",
    "np.random.seed(seed)\n",
    "pyro.set_rng_seed(seed)"
   ]
  },
  {
   "cell_type": "code",
   "execution_count": 3,
   "metadata": {},
   "outputs": [],
   "source": [
    "pyro.enable_validation()"
   ]
  },
  {
   "cell_type": "markdown",
   "metadata": {},
   "source": [
    "Now we define the probabilistic model for the respirator, using deterministic parameters except for the charge density which is given a Gamma prior:\n",
    "$$\n",
    "    q \\sim \\Gamma(\\alpha, \\beta)\n",
    "$$\n",
    "We add observation noise for the penetration: $P_{obs}(d_p) = P_{model}(d_p) + \\epsilon$ where $\\epsilon$ is a Gaussian."
   ]
  },
  {
   "cell_type": "code",
   "execution_count": 4,
   "metadata": {},
   "outputs": [],
   "source": [
    "# prior distribution on q\n",
    "theta = 1 * constants.nano\n",
    "beta = 1./theta\n",
    "alpha = 3\n",
    "# We use a Gamma prior -- take care in Pyro Gamma is parameterized using (alpha, beta) !\n",
    "charge_prior = dist.Gamma(alpha, beta)\n",
    "\n",
    "def get_profile(diameters):\n",
    "    \n",
    "    charge = pyro.sample('q', charge_prior)\n",
    "\n",
    "    surface_area, layer_params = respiratorA(charge)\n",
    "    \n",
    "    debit = 85 * constants.liter / constants.minute\n",
    "    face_vel = debit / surface_area\n",
    "\n",
    "    results = compute_penetration_profile(\n",
    "        diameters, layer_params, face_vel, temperature, viscosity)\n",
    "    \n",
    "    obs_scale = pyro.param('obs_scale', .05 * torch.ones(1),\n",
    "                           constraint=constraints.positive)\n",
    "    \n",
    "    obs = pyro.sample('obs', dist.Normal(results, obs_scale))\n",
    "    # obs = pyro.deterministic('obs', results)\n",
    "    return obs"
   ]
  },
  {
   "cell_type": "markdown",
   "metadata": {},
   "source": [
    "Then, the synethetic data for penetration $\\{P^m(d_i)\\}_i$ at multiple particle sizes $d_i$ and samples $m$, are used to condition the model."
   ]
  },
  {
   "cell_type": "code",
   "execution_count": 5,
   "metadata": {},
   "outputs": [],
   "source": [
    "import pandas as pd\n",
    "import json\n",
    "\n",
    "# Load the data\n",
    "filename = \"data/synthetic_respA.csv\"\n",
    "perf_data = pd.read_csv(filename, index_col=0)\n",
    "data_diameters = torch.from_numpy(perf_data.index.values)\n",
    "perf_data = torch.from_numpy(perf_data.values).T\n",
    "\n",
    "with open(\"data/synthetic_summary.json\") as f:\n",
    "    metadata = json.load(f)[filename]\n",
    "\n",
    "# Define a runnable conditioned model\n",
    "with pyro.plate(\"data\", perf_data.shape[0], dim=-2):\n",
    "    cond_model = pyro.condition(get_profile, data={'obs': perf_data})"
   ]
  },
  {
   "cell_type": "markdown",
   "metadata": {},
   "source": [
    "Then we perform infernece using the NUTS Markov chain Monte Carlo algorithm:"
   ]
  },
  {
   "cell_type": "code",
   "execution_count": null,
   "metadata": {},
   "outputs": [
    {
     "name": "stderr",
     "output_type": "stream",
     "text": [
      "Sample:  60%|██████    | 604/1000 [00:02, 288.47it/s, step size=1.12e+00, acc. prob=0.923]"
     ]
    }
   ],
   "source": [
    "# Run two Markov chains in parallel\n",
    "num_samples = 500\n",
    "num_chains = 1\n",
    "kernel = pyro.infer.NUTS(model=cond_model, jit_compile=True)\n",
    "mcmc = pyro.infer.MCMC(kernel, num_samples, warmup_steps=500, num_chains=num_chains)\n",
    "mcmc.run(data_diameters)"
   ]
  },
  {
   "cell_type": "code",
   "execution_count": null,
   "metadata": {},
   "outputs": [],
   "source": [
    "# Collect our MCMC run data\n",
    "samples_post = mcmc.get_samples()\n",
    "q_post_samples = samples_post['q']\n",
    "gap = q_post_samples.max() - q_post_samples.min()\n",
    "qrange = torch.linspace(0, q_post_samples.max()+.2*gap)[1:]"
   ]
  },
  {
   "cell_type": "code",
   "execution_count": null,
   "metadata": {},
   "outputs": [],
   "source": [
    "import matplotlib.pyplot as plt\n",
    "from scipy import stats\n",
    "\n",
    "plt.rcParams['figure.dpi'] = 90\n",
    "\n",
    "plt.style.use('ggplot')\n",
    "\n",
    "q_prior_samples = charge_prior.sample((num_samples,))\n",
    "n_bins = int(num_samples ** (1/2))\n",
    "\n",
    "plt.figure()\n",
    "\n",
    "probs = torch.exp(charge_prior.log_prob(qrange))\n",
    "true_charge = metadata.get(\"true_charge\", None)\n",
    "\n",
    "p, = plt.plot(qrange, probs,\n",
    "         label=\"Prior distribution\")\n",
    "prior_color = p.get_color()\n",
    "plt.hist(q_prior_samples, bins=n_bins, rwidth=.8, density=True,\n",
    "         label=\"Prior samples\", color=prior_color, alpha=.8)\n",
    "\n",
    "# plot the posterior distribution histogram of the charge density\n",
    "plt.hist(q_post_samples, bins=n_bins, rwidth=.8, density=True,\n",
    "         label=\"Posterior\")\n",
    "if true_charge is not None:\n",
    "    plt.vlines(true_charge, *plt.ylim(), ls='--', label=\"True (point) value\")\n",
    "plt.legend()\n",
    "plt.title(\"Prior and posterior distributions of the charge density\")\n",
    "plt.xlabel(\"Charge density (C/m)\")\n",
    "plt.tight_layout()\n",
    "plt.show()"
   ]
  }
 ],
 "metadata": {
  "kernelspec": {
   "display_name": "Python 3.7.6 64-bit ('torch': conda)",
   "language": "python",
   "name": "python37664bittorchcondae15d8e9bd3af4eea827089dda6425dca"
  },
  "language_info": {
   "codemirror_mode": {
    "name": "ipython",
    "version": 3
   },
   "file_extension": ".py",
   "mimetype": "text/x-python",
   "name": "python",
   "nbconvert_exporter": "python",
   "pygments_lexer": "ipython3",
   "version": "3.7.6"
  }
 },
 "nbformat": 4,
 "nbformat_minor": 4
}
